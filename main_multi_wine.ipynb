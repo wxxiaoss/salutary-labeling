{
 "cells": [
  {
   "cell_type": "code",
   "execution_count": 1,
   "metadata": {},
   "outputs": [
    {
     "name": "stderr",
     "output_type": "stream",
     "text": [
      "/home/wxxiao/anaconda3/envs/tf-py38/lib/python3.8/site-packages/tqdm/auto.py:22: TqdmWarning: IProgress not found. Please update jupyter and ipywidgets. See https://ipywidgets.readthedocs.io/en/stable/user_install.html\n",
      "  from .autonotebook import tqdm as notebook_tqdm\n",
      "Intel(R) Extension for Scikit-learn* enabled (https://github.com/intel/scikit-learn-intelex)\n"
     ]
    }
   ],
   "source": [
    "import os\n",
    "import time\n",
    "import argparse\n",
    "import numpy as np\n",
    "from typing import Sequence\n",
    "\n",
    "from dataset import fetch_data, DataTemplate\n",
    "from model import LogisticRegression, NNLastLayerIF, MLPClassifier\n",
    "from utils import fix_seed, save2csv\n",
    "\n",
    "import json\n",
    "\n",
    "import pickle\n",
    "import random\n",
    "\n",
    "import copy\n",
    "\n",
    "import pandas as pd\n",
    "\n",
    "from modAL.models import ActiveLearner\n",
    "from modAL.uncertainty import entropy_sampling, margin_sampling, uncertainty_sampling\n",
    "\n",
    "from sklearn.linear_model import LogisticRegression as LR\n",
    "from sklearn.ensemble import RandomForestClassifier\n",
    "from sklearn.neighbors import KNeighborsClassifier\n",
    "from sklearn.svm import SVC\n",
    "from sklearn.tree import DecisionTreeRegressor\n",
    "\n",
    "import matplotlib.pyplot as plt\n",
    "\n",
    "from sklearn.model_selection import train_test_split\n",
    "\n",
    "from sklearn.pipeline import make_pipeline\n",
    "from sklearn.preprocessing import StandardScaler\n",
    "\n",
    "os.environ[\"CUDA_VISIBLE_DEVICES\"]='0'\n",
    "\n",
    "from model_softmax_torch import LogisticRegressionMulti, fast_get_inv_hvp_cuda\n",
    "from modAL.utils.selection import shuffled_argmax, shuffled_argmin"
   ]
  },
  {
   "cell_type": "code",
   "execution_count": 2,
   "metadata": {},
   "outputs": [],
   "source": [
    "def parse_args():\n",
    "    parser = argparse.ArgumentParser(description='Influence Fairness')\n",
    "    parser.add_argument('--dataset', type=str, default=\"adult\", help=\"name of the dataset\")\n",
    "    parser.add_argument('--metric', type=str, default=\"eop\", help=\"eop or dp\")\n",
    "    parser.add_argument('--seed', type=float, default=42, help=\"random seed\")\n",
    "    parser.add_argument('--save_model', type=str, default=\"n\", help=\"y/n\")\n",
    "    parser.add_argument('--type', type=str, default=\"util\", help=\"util/fair/robust\")\n",
    "    parser.add_argument('--strategy', type=str, default=\"dec\", help=\"inc/dec/random\")\n",
    "    parser.add_argument('--points_to_delete', type=int, default=500, help=\"points to delete\")\n",
    "    parser.add_argument('--random_seed', type=int, default=42, help=\"seed for random strategy\")\n",
    "    parser.add_argument('--plot_before_only', type=str, default=\"n\", help=\"y/n\")\n",
    "    parser.add_argument('--model_type', type=str, default=\"logreg\", help=\"logreg/nn\")\n",
    "    parser.add_argument('--diabetes', type=str, default=\"y\", help=\"y/n\")\n",
    "\n",
    "    args = parser.parse_args(\"--dataset bank --diabetes n --plot_before_only n\".split())\n",
    "\n",
    "    return args\n",
    "args = parse_args()"
   ]
  },
  {
   "cell_type": "code",
   "execution_count": 3,
   "metadata": {},
   "outputs": [],
   "source": [
    "def get_full_dataset(args):\n",
    "    tik = time.time()\n",
    "\n",
    "    if args.seed is not None:\n",
    "        fix_seed(args.seed)\n",
    "\n",
    "    with open('data/' + args.dataset  + '/meta.json', 'r+') as f:\n",
    "        json_data = json.load(f)\n",
    "        json_data['train_path'] = './data/' + args.dataset + '/train.csv'\n",
    "        f.seek(0)        \n",
    "        json.dump(json_data, f, indent=4)\n",
    "        f.truncate()\n",
    "\n",
    "    data: DataTemplate = fetch_data(args.dataset)\n",
    "    return data\n",
    "\n",
    "\n",
    "def random_sampling(classifier, X_pool, n_instances):\n",
    "    n_samples = len(X_pool)\n",
    "    query_idx = np.random.choice(range(n_samples), n_instances, replace=False)\n",
    "    return query_idx, X_pool[query_idx]\n",
    "\n",
    "\n",
    "\n",
    "def train_model(args, x_train, y_train, l2_regularlization_term=0.01):\n",
    "    tik = time.time()\n",
    "\n",
    "    if args.seed is not None:\n",
    "        fix_seed(args.seed)\n",
    "\n",
    "    model = LogisticRegressionMulti(l2_reg=l2_regularlization_term, fit_intercept=True)\n",
    "\n",
    "    \"\"\" vanilla training \"\"\"\n",
    "\n",
    "    model.fit(x_train, y_train)\n",
    "\n",
    "    return model\n",
    "\n",
    "def train_model_multi(args, x_train, y_train, l2_regularlization_term=0.01):\n",
    "    tik = time.time()\n",
    "\n",
    "    if args.seed is not None:\n",
    "        fix_seed(args.seed)\n",
    "\n",
    "    model = LogisticRegressionMulti(l2_reg=l2_regularlization_term, fit_intercept=True)\n",
    "\n",
    "    \"\"\" vanilla training \"\"\"\n",
    "\n",
    "    model.fit(x_train, y_train)\n",
    "\n",
    "    return model\n",
    "\n",
    "\n",
    "\n",
    "def compute_influence(args, x_train, y_train, x_val, y_val, model):\n",
    "    ori_util_loss_val = model.log_loss(x_val,y_val)\n",
    "\n",
    "    \"\"\" compute the influence and save data \"\"\"\n",
    "\n",
    "    pred_train, _ = model.pred(x_train)\n",
    "\n",
    "    train_total_grad, train_indiv_grad = model.grad(x_train, y_train)\n",
    "    util_loss_total_grad, acc_loss_indiv_grad = model.grad(x_val, y_val)\n",
    "\n",
    "    hess = model.hess(x_train)\n",
    "    util_grad_hvp = model.get_inv_hvp(hess, util_loss_total_grad)\n",
    "\n",
    "    util_pred_infl = train_indiv_grad.dot(util_grad_hvp)\n",
    "\n",
    "    return util_pred_infl"
   ]
  },
  {
   "cell_type": "code",
   "execution_count": 4,
   "metadata": {},
   "outputs": [
    {
     "name": "stdout",
     "output_type": "stream",
     "text": [
      "Loading Bank dataset..\n",
      "Dataset statistic - #total: 30488; #train: 18292; #val.: 6098; #test: 6098; #dim.: 51\n",
      "\n"
     ]
    }
   ],
   "source": [
    "args.seed = 0\n",
    "N_QUERIES = 10 #100\n",
    "N_ROUNDS = 10\n",
    "\n",
    "base_model = clf = make_pipeline(StandardScaler(), LogisticRegression(l2_reg=0.01))\n",
    "#######################\n",
    "data = get_full_dataset(args)"
   ]
  },
  {
   "cell_type": "code",
   "execution_count": 5,
   "metadata": {},
   "outputs": [],
   "source": [
    "from sklearn.preprocessing import LabelEncoder\n",
    "from ucimlrepo import fetch_ucirepo \n",
    "from sklearn.preprocessing import OneHotEncoder\n",
    "import pandas as pd"
   ]
  },
  {
   "cell_type": "code",
   "execution_count": 7,
   "metadata": {},
   "outputs": [
    {
     "data": {
      "text/plain": [
       "((301, 11),\n",
       " (3596, 11),\n",
       " (1300, 11),\n",
       " (1300, 11),\n",
       " array([0, 1, 2, 3, 4, 5, 6]),\n",
       " array([0, 1, 2, 3, 4, 5, 6]),\n",
       " array([0, 1, 2, 3, 4, 5, 6]),\n",
       " array([0, 1, 2, 3, 4, 5, 6]))"
      ]
     },
     "execution_count": 7,
     "metadata": {},
     "output_type": "execute_result"
    }
   ],
   "source": [
    "wine_quality = fetch_ucirepo(id=186) \n",
    "  \n",
    "# data (as pandas dataframes) \n",
    "X_all = wine_quality.data.features \n",
    "y_all = wine_quality.data.targets \n",
    "\n",
    "X = X_all.iloc[y_all[y_all['quality'] != 9].index].values\n",
    "y = y_all.iloc[y_all[y_all['quality'] != 9].index].values\n",
    "\n",
    "X_train, X_test, y_train, y_test = train_test_split(X, y, test_size=0.2, random_state=1, stratify=y)\n",
    "\n",
    "X_train, X_val, y_train, y_val = train_test_split(X_train, y_train, test_size=0.25, random_state=1, stratify=y_train) # 0.25 x 0.8 = 0.2\n",
    "\n",
    "X_pool, X_init, y_pool, y_init = train_test_split(X_train, y_train, train_size=X_train.shape[0] - 300, test_size=300, random_state=1, stratify=y_train)\n",
    "\n",
    "cand_idx = y_all[y_all['quality'] == 9].index\n",
    "np.random.shuffle(cand_idx.values)\n",
    "\n",
    "X_pool = np.concatenate((X_pool, X_all.iloc[cand_idx[:2]].values), axis=0)\n",
    "y_pool = np.concatenate((y_pool, y_all.iloc[cand_idx[:2]].values), axis=0).reshape(-1, )\n",
    "\n",
    "X_init = np.concatenate((X_init, X_all.iloc[cand_idx[2:3]].values), axis=0)\n",
    "y_init = np.concatenate((y_init, y_all.iloc[cand_idx[2:3]].values), axis=0).reshape(-1, )\n",
    "\n",
    "X_val = np.concatenate((X_val, X_all.iloc[cand_idx[3:4]].values), axis=0)\n",
    "y_val = np.concatenate((y_val, y_all.iloc[cand_idx[3:4]].values), axis=0).reshape(-1, )\n",
    "\n",
    "X_test = np.concatenate((X_test, X_all.iloc[cand_idx[4:]].values), axis=0)\n",
    "y_test = np.concatenate((y_test, y_all.iloc[cand_idx[4:]].values), axis=0).reshape(-1, )\n",
    "\n",
    "\n",
    "\n",
    "le = LabelEncoder()\n",
    "y_pool = le.fit_transform(y_pool)\n",
    "y_init = le.transform(y_init)\n",
    "y_val = le.transform(y_val)\n",
    "y_test = le.transform(y_test)\n",
    "\n",
    "\n",
    "enc = OneHotEncoder(handle_unknown='ignore')\n",
    "enc.fit(y_pool.reshape(-1, 1))\n",
    "\n",
    "\n",
    "data.x_val, data.y_val, data.x_test, data.y_test = X_val, y_val, X_test, y_test\n",
    "X_pool_copy, y_pool_copy = copy.deepcopy(X_pool), copy.deepcopy(y_pool)\n",
    "\n",
    "X_init.shape, X_pool.shape, X_val.shape, X_test.shape, np.unique(y_test), np.unique(y_val), np.unique(y_pool), np.unique(y_init)"
   ]
  },
  {
   "cell_type": "code",
   "execution_count": 9,
   "metadata": {},
   "outputs": [],
   "source": [
    "C = 50\n",
    "base_model = make_pipeline(LogisticRegressionMulti(C))\n",
    "\n",
    "x_init = X_init\n",
    "x_val = data.x_val\n",
    "x_test = data.x_test\n",
    "\n",
    "x_pool = X_pool\n",
    "\n",
    "x_pool_copy = copy.deepcopy(x_pool)\n",
    "\n",
    "args.dataset = args.dataset + '_C_' + str(round(C, 2)) + \"_No_Scaling\" \n",
    "\n",
    "data.x_val = x_val\n",
    "data.x_test = x_test"
   ]
  },
  {
   "cell_type": "code",
   "execution_count": 10,
   "metadata": {},
   "outputs": [],
   "source": [
    "one_hot_labels_train = enc.transform(y_train.reshape(-1, 1)).toarray()\n",
    "one_hot_labels_val = enc.transform(y_val.reshape(-1, 1)).toarray()"
   ]
  },
  {
   "cell_type": "code",
   "execution_count": null,
   "metadata": {},
   "outputs": [],
   "source": []
  },
  {
   "cell_type": "code",
   "execution_count": 12,
   "metadata": {},
   "outputs": [
    {
     "name": "stdout",
     "output_type": "stream",
     "text": [
      "RANDOM SAMPLING DONE.\n"
     ]
    },
    {
     "data": {
      "text/plain": [
       "[0.4461538461538462,\n",
       " 0.43923076923076926,\n",
       " 0.44153846153846155,\n",
       " 0.44,\n",
       " 0.4423076923076923,\n",
       " 0.44076923076923075,\n",
       " 0.4423076923076923,\n",
       " 0.4423076923076923,\n",
       " 0.44384615384615383,\n",
       " 0.44769230769230767,\n",
       " 0.45692307692307693]"
      ]
     },
     "execution_count": 12,
     "metadata": {},
     "output_type": "execute_result"
    }
   ],
   "source": [
    "#Random Sampling\n",
    "rlearner = ActiveLearner(\n",
    "estimator=base_model,\n",
    "query_strategy=random_sampling,\n",
    "X_training=x_init, y_training=y_init)\n",
    "\n",
    "unqueried_score = rlearner.score(x_test, data.y_test)\n",
    "val_score = rlearner.score(x_val, data.y_val)\n",
    "\n",
    "results_dict = {'random':[unqueried_score], 'entropy':[unqueried_score], 'margin':[unqueried_score], 'influence':[unqueried_score], 'uncertainty':[unqueried_score], 'p_influence':[unqueried_score], \n",
    "                'random_val':[val_score], 'entropy_val':[val_score], 'margin_val':[val_score], 'influence_val':[val_score], 'uncertainty_val':[val_score], 'p_influence_val':[val_score]}\n",
    "\n",
    "for _ in range(N_ROUNDS):\n",
    "    query_index, query_instance = rlearner.query(x_pool, n_instances=N_QUERIES)\n",
    "\n",
    "    x_teach, y_teach = x_pool[query_index].reshape(N_QUERIES, -1), y_pool[query_index].reshape(N_QUERIES, )\n",
    "    rlearner.teach(X=x_teach, y=y_teach)\n",
    "\n",
    "    x_pool, y_pool = np.delete(x_pool, query_index, axis=0), np.delete(y_pool, query_index)\n",
    "\n",
    "    rmodel_accuracy = rlearner.score(x_test, data.y_test)\n",
    "    results_dict['random'].append(rmodel_accuracy)\n",
    "    results_dict['random_val'].append(rlearner.score(x_val, data.y_val))\n",
    "\n",
    "x_pool, y_pool = copy.deepcopy(x_pool_copy), copy.deepcopy(y_pool_copy)\n",
    "\n",
    "print(\"RANDOM SAMPLING DONE.\")\n",
    "results_dict['random']"
   ]
  },
  {
   "cell_type": "code",
   "execution_count": 13,
   "metadata": {},
   "outputs": [
    {
     "name": "stdout",
     "output_type": "stream",
     "text": [
      "ENTROPY SAMPLING DONE.\n"
     ]
    },
    {
     "data": {
      "text/plain": [
       "[0.4461538461538462,\n",
       " 0.46153846153846156,\n",
       " 0.45615384615384613,\n",
       " 0.4546153846153846,\n",
       " 0.4492307692307692,\n",
       " 0.4376923076923077,\n",
       " 0.4376923076923077,\n",
       " 0.43846153846153846,\n",
       " 0.4376923076923077,\n",
       " 0.4453846153846154,\n",
       " 0.44153846153846155]"
      ]
     },
     "execution_count": 13,
     "metadata": {},
     "output_type": "execute_result"
    }
   ],
   "source": [
    "#Entropy Sampling\n",
    "elearner = ActiveLearner(\n",
    "estimator=base_model,\n",
    "query_strategy=entropy_sampling,\n",
    "X_training=x_init, y_training=y_init)\n",
    "\n",
    "\n",
    "for _ in range(N_ROUNDS):\n",
    "    query_index, query_instance = elearner.query(x_pool, n_instances=N_QUERIES)\n",
    "\n",
    "    x_teach, y_teach = x_pool[query_index].reshape(N_QUERIES, -1), y_pool[query_index].reshape(N_QUERIES, )\n",
    "    elearner.teach(X=x_teach, y=y_teach)\n",
    "\n",
    "    x_pool, y_pool = np.delete(x_pool, query_index, axis=0), np.delete(y_pool, query_index)\n",
    "\n",
    "    emodel_accuracy = elearner.score(x_test, data.y_test)\n",
    "    results_dict['entropy'].append(emodel_accuracy)\n",
    "    results_dict['entropy_val'].append(elearner.score(x_val, data.y_val))\n",
    "\n",
    "    \n",
    "x_pool, y_pool = copy.deepcopy(x_pool_copy), copy.deepcopy(y_pool_copy)\n",
    "\n",
    "print(\"ENTROPY SAMPLING DONE.\")\n",
    "results_dict['entropy']\n"
   ]
  },
  {
   "cell_type": "code",
   "execution_count": 14,
   "metadata": {},
   "outputs": [
    {
     "name": "stdout",
     "output_type": "stream",
     "text": [
      "MARGIN SAMPLING DONE.\n"
     ]
    },
    {
     "data": {
      "text/plain": [
       "[0.4461538461538462,\n",
       " 0.4530769230769231,\n",
       " 0.45153846153846156,\n",
       " 0.4584615384615385,\n",
       " 0.4684615384615385,\n",
       " 0.46384615384615385,\n",
       " 0.47,\n",
       " 0.47384615384615386,\n",
       " 0.4746153846153846,\n",
       " 0.48846153846153845,\n",
       " 0.47923076923076924]"
      ]
     },
     "execution_count": 14,
     "metadata": {},
     "output_type": "execute_result"
    }
   ],
   "source": [
    "#Margin Sampling\n",
    "mlearner = ActiveLearner(\n",
    "estimator=base_model,\n",
    "query_strategy=margin_sampling,\n",
    "X_training=x_init, y_training=y_init)\n",
    "\n",
    "for _ in range(N_ROUNDS):\n",
    "    query_index, query_instance = mlearner.query(x_pool, n_instances=N_QUERIES)\n",
    "\n",
    "    x_teach, y_teach = x_pool[query_index].reshape(N_QUERIES, -1), y_pool[query_index].reshape(N_QUERIES, )\n",
    "    mlearner.teach(X=x_teach, y=y_teach)\n",
    "\n",
    "    x_pool, y_pool = np.delete(x_pool, query_index, axis=0), np.delete(y_pool, query_index)\n",
    "\n",
    "    mmodel_accuracy = mlearner.score(x_test, data.y_test)\n",
    "    results_dict['margin'].append(mmodel_accuracy)\n",
    "    results_dict['margin_val'].append(mlearner.score(x_val, data.y_val))\n",
    "\n",
    "x_pool, y_pool = copy.deepcopy(x_pool_copy), copy.deepcopy(y_pool_copy)\n",
    "\n",
    "print(\"MARGIN SAMPLING DONE.\")\n",
    "results_dict['margin']"
   ]
  },
  {
   "cell_type": "code",
   "execution_count": 15,
   "metadata": {},
   "outputs": [
    {
     "name": "stdout",
     "output_type": "stream",
     "text": [
      "UNCERTAINTY SAMPLING DONE.\n"
     ]
    },
    {
     "data": {
      "text/plain": [
       "[0.4461538461538462,\n",
       " 0.45076923076923076,\n",
       " 0.45,\n",
       " 0.44846153846153847,\n",
       " 0.4338461538461538,\n",
       " 0.4307692307692308,\n",
       " 0.4338461538461538,\n",
       " 0.44153846153846155,\n",
       " 0.4346153846153846,\n",
       " 0.4369230769230769,\n",
       " 0.4430769230769231]"
      ]
     },
     "execution_count": 15,
     "metadata": {},
     "output_type": "execute_result"
    }
   ],
   "source": [
    "#Uncertainty Sampling\n",
    "ulearner = ActiveLearner(\n",
    "estimator=base_model,\n",
    "query_strategy=uncertainty_sampling,\n",
    "X_training=x_init, y_training=y_init)\n",
    "\n",
    "for _ in range(N_ROUNDS):\n",
    "    query_index, query_instance = ulearner.query(x_pool, n_instances=N_QUERIES)\n",
    "\n",
    "    x_teach, y_teach = x_pool[query_index].reshape(N_QUERIES, -1), y_pool[query_index].reshape(N_QUERIES, )\n",
    "    ulearner.teach(X=x_teach, y=y_teach)\n",
    "\n",
    "    x_pool, y_pool = np.delete(x_pool, query_index, axis=0), np.delete(y_pool, query_index)\n",
    "\n",
    "    umodel_accuracy = ulearner.score(x_test, data.y_test)\n",
    "    results_dict['uncertainty'].append(umodel_accuracy)\n",
    "    results_dict['uncertainty_val'].append(ulearner.score(x_val, data.y_val))\n",
    "    \n",
    "x_pool, y_pool = copy.deepcopy(x_pool_copy), copy.deepcopy(y_pool_copy)\n",
    "\n",
    "print(\"UNCERTAINTY SAMPLING DONE.\")\n",
    "results_dict['uncertainty']"
   ]
  },
  {
   "cell_type": "code",
   "execution_count": 16,
   "metadata": {},
   "outputs": [
    {
     "name": "stderr",
     "output_type": "stream",
     "text": [
      "/home/wxxiao/anaconda3/envs/tf-py38/lib/python3.8/site-packages/daal4py/sklearn/linear_model/logistic_path.py:574: ConvergenceWarning: lbfgs failed to converge (status=1):\n",
      "STOP: TOTAL NO. of ITERATIONS REACHED LIMIT.\n",
      "\n",
      "Increase the number of iterations (max_iter) or scale the data as shown in:\n",
      "    https://scikit-learn.org/stable/modules/preprocessing.html\n",
      "Please also refer to the documentation for alternative solver options:\n",
      "    https://scikit-learn.org/stable/modules/linear_model.html#logistic-regression\n",
      "  n_iter_i = _check_optimize_result(\n",
      "100%|██████████| 300/300 [00:00<00:00, 3017.19it/s]\n"
     ]
    },
    {
     "name": "stdout",
     "output_type": "stream",
     "text": [
      "INFLUENCE SAMPLING DONE.\n"
     ]
    },
    {
     "data": {
      "text/plain": [
       "[0.4461538461538462,\n",
       " 0.4553846153846154,\n",
       " 0.45153846153846156,\n",
       " 0.4592307692307692,\n",
       " 0.46,\n",
       " 0.4584615384615385,\n",
       " 0.46307692307692305,\n",
       " 0.4776923076923077,\n",
       " 0.48307692307692307,\n",
       " 0.4815384615384615,\n",
       " 0.4823076923076923]"
      ]
     },
     "execution_count": 16,
     "metadata": {},
     "output_type": "execute_result"
    }
   ],
   "source": [
    "cls_model = train_model(args, X_init, y_init)\n",
    "util_infl = compute_influence(args, X_init, y_init, data.x_val, data.y_val, cls_model, enc)\n",
    "estimation_model = DecisionTreeRegressor(random_state=42).fit(X_init, util_infl)\n",
    "def influence_sampling(classifier, X_pool, n_instances=1):\n",
    "    I = estimation_model.predict(X_pool)\n",
    "    query_idx, query_I = shuffled_argmax(I, n_instances=n_instances)\n",
    "    return query_idx, X_pool[query_idx]\n",
    "\n",
    "#Influence Sampling\n",
    "ilearner = ActiveLearner(\n",
    "estimator=base_model,\n",
    "query_strategy=influence_sampling,\n",
    "X_training=x_init, y_training=y_init)\n",
    "\n",
    "for _ in range(N_ROUNDS):\n",
    "    query_index, query_instance = ilearner.query(x_pool, n_instances=N_QUERIES)\n",
    "\n",
    "    x_teach, y_teach = x_pool[query_index].reshape(N_QUERIES, -1), y_pool[query_index].reshape(N_QUERIES, )\n",
    "\n",
    "    ilearner.teach(X=x_teach, y=y_teach)\n",
    "\n",
    "    x_pool, y_pool = np.delete(x_pool, query_index, axis=0), np.delete(y_pool, query_index)\n",
    "\n",
    "    imodel_accuracy = ilearner.score(x_test, data.y_test)\n",
    "    results_dict['influence'].append(imodel_accuracy)\n",
    "    results_dict['influence_val'].append(ilearner.score(x_val, data.y_val))\n",
    "\n",
    "\n",
    "\n",
    "x_pool, y_pool = copy.deepcopy(x_pool_copy), copy.deepcopy(y_pool_copy)\n",
    "\n",
    "print(\"INFLUENCE SAMPLING DONE.\")\n",
    "results_dict['influence']"
   ]
  },
  {
   "cell_type": "code",
   "execution_count": 17,
   "metadata": {},
   "outputs": [],
   "source": [
    "def compute_influence_pipeline(args, x_train, y_train, x_val, y_val, model, enc):\n",
    "    one_hot_labels_val = enc.transform(y_val.reshape(-1, 1)).toarray()\n",
    "    one_hot_labels_train = enc.transform(y_train.reshape(-1, 1)).toarray()\n",
    "    \n",
    "    # x_train = model[0].transform(x_train)\n",
    "    # x_val = model[0].transform(x_val)\n",
    "\n",
    "    logits_val_y = x_val @ model.model.coef_.T + model.model.intercept_\n",
    "    logits_train_y = x_train @ model.model.coef_.T + model.model.intercept_\n",
    "    ori_val_loss, ave_ori_val_loss = model.log_loss(logits_val_y, one_hot_labels_val, l2_reg=True)\n",
    "\n",
    "    train_total_grad, train_indiv_grad = model.grad(x_train, logits_train_y,\n",
    "                                                    one_hot_labels_train, l2_reg=True)\n",
    "    val_loss_total_grad, val_loss_indiv_grad = model.grad(x_val, logits_val_y,\n",
    "                                                        one_hot_labels_val, l2_reg=True)\n",
    "\n",
    "    hess = model.hess_cuda(x_train, logits_train_y)\n",
    "\n",
    "    loss_grad_hvp = fast_get_inv_hvp_cuda(hess, val_loss_total_grad.T, cholskey=False).cpu().numpy()\n",
    "    pred_infl = train_indiv_grad.dot(loss_grad_hvp)\n",
    "\n",
    "    return pred_infl"
   ]
  },
  {
   "cell_type": "code",
   "execution_count": 18,
   "metadata": {},
   "outputs": [
    {
     "name": "stderr",
     "output_type": "stream",
     "text": [
      "  5%|▌         | 190/3595 [00:00<00:01, 1898.45it/s]"
     ]
    },
    {
     "name": "stderr",
     "output_type": "stream",
     "text": [
      "100%|██████████| 3595/3595 [00:01<00:00, 2771.82it/s]\n",
      "100%|██████████| 3594/3594 [00:01<00:00, 3059.95it/s]\n",
      "100%|██████████| 3593/3593 [00:01<00:00, 3081.89it/s]\n",
      "100%|██████████| 3592/3592 [00:01<00:00, 3031.33it/s]\n",
      "100%|██████████| 3591/3591 [00:01<00:00, 2991.90it/s]\n",
      "100%|██████████| 3590/3590 [00:01<00:00, 2960.34it/s]\n",
      "100%|██████████| 3589/3589 [00:01<00:00, 2979.49it/s]\n",
      "100%|██████████| 3588/3588 [00:01<00:00, 2972.10it/s]\n",
      "100%|██████████| 3587/3587 [00:01<00:00, 3036.27it/s]\n",
      "100%|██████████| 3586/3586 [00:01<00:00, 3126.26it/s]\n"
     ]
    },
    {
     "name": "stdout",
     "output_type": "stream",
     "text": [
      "INFLUENCE SAMPLING DONE.\n"
     ]
    },
    {
     "data": {
      "text/plain": [
       "[0.4461538461538462,\n",
       " 0.44,\n",
       " 0.4369230769230769,\n",
       " 0.4269230769230769,\n",
       " 0.45076923076923076,\n",
       " 0.4423076923076923,\n",
       " 0.44,\n",
       " 0.43923076923076926,\n",
       " 0.42,\n",
       " 0.43153846153846154,\n",
       " 0.43538461538461537]"
      ]
     },
     "execution_count": 18,
     "metadata": {},
     "output_type": "execute_result"
    }
   ],
   "source": [
    "def p_inf_sampling(classifier, X_pool, n_instances=1):\n",
    "    p_labels = pilearner.predict(X_pool)\n",
    "    pool_infl = compute_influence_pipeline(args, X_pool, p_labels, data.x_val, data.y_val, pilearner.estimator[0], enc)\n",
    "    query_idx, query_I = shuffled_argmax(pool_infl, n_instances=n_instances)\n",
    "    return query_idx, X_pool[query_idx]\n",
    "\n",
    "#P Influence Sampling\n",
    "pilearner = ActiveLearner(\n",
    "estimator=base_model,\n",
    "query_strategy=p_inf_sampling,\n",
    "X_training=x_init, y_training=y_init)\n",
    "\n",
    "results_dict['p_influence'] = [unqueried_score]\n",
    "results_dict['p_influence_val'] =  [val_score]\n",
    "\n",
    "\n",
    "for _ in range(N_ROUNDS):\n",
    "    query_index, query_instance = pilearner.query(x_pool, n_instances=N_QUERIES)\n",
    "\n",
    "    x_teach, y_teach = x_pool[query_index].reshape(N_QUERIES, -1), y_pool[query_index].reshape(N_QUERIES, )\n",
    "\n",
    "    pilearner.teach(X=x_teach, y=y_teach)\n",
    "\n",
    "    x_pool, y_pool = np.delete(x_pool, query_index, axis=0), np.delete(y_pool, query_index)\n",
    "\n",
    "    imodel_accuracy = pilearner.score(x_test, data.y_test)\n",
    "    results_dict['p_influence'].append(imodel_accuracy)\n",
    "    results_dict['p_influence_val'].append(pilearner.score(x_val, data.y_val))\n",
    "\n",
    "x_pool, y_pool = copy.deepcopy(x_pool_copy), copy.deepcopy(y_pool_copy)\n",
    "\n",
    "print(\"INFLUENCE SAMPLING DONE.\")\n",
    "results_dict['p_influence']"
   ]
  },
  {
   "cell_type": "code",
   "execution_count": 19,
   "metadata": {},
   "outputs": [],
   "source": [
    "def compute_influence_pipeline_auto(args, x_train, y_train, x_val, y_val, model, enc):\n",
    "    one_hot_labels_val = enc.transform(y_val.reshape(-1, 1)).toarray()\n",
    "    \n",
    "    \n",
    "    # x_train = model[0].transform(x_train)\n",
    "    # x_val = model[0].transform(x_val)\n",
    "\n",
    "    logits_train_y = x_train @ model.model.coef_.T + model.model.intercept_\n",
    "    logits_val_y = x_val @ model.model.coef_.T + model.model.intercept_\n",
    "    print(logits_val_y.shape, one_hot_labels_val.shape)\n",
    "    ori_val_loss, ave_ori_val_loss = model.log_loss(logits_val_y, one_hot_labels_val, l2_reg=True)\n",
    "\n",
    "    val_loss_total_grad, val_loss_indiv_grad = model.grad(x_val, logits_val_y,\n",
    "                                                        one_hot_labels_val, l2_reg=True)\n",
    "    hess = model.hess_cuda(x_train, logits_train_y)\n",
    "\n",
    "    loss_grad_hvp = fast_get_inv_hvp_cuda(hess, val_loss_total_grad.T, cholskey=False).cpu().numpy()\n",
    "\n",
    "    results = {}\n",
    "    for i in np.unique(y_val):\n",
    "        one_hot_labels_train = enc.transform(np.ones_like(y_train).reshape(-1, 1)*i).toarray()\n",
    "        logits_train_y = x_train @ model.model.coef_.T + model.model.intercept_\n",
    "        _, train_indiv_grad = model.grad(x_train, logits_train_y,\n",
    "                                                    one_hot_labels_train, l2_reg=True)\n",
    "        pred_infl = train_indiv_grad.dot(loss_grad_hvp)\n",
    "        results[i] = pred_infl.reshape(-1,)\n",
    "        # print(i)\n",
    "    return results"
   ]
  },
  {
   "cell_type": "code",
   "execution_count": 20,
   "metadata": {},
   "outputs": [
    {
     "data": {
      "text/plain": [
       "(7,)"
      ]
     },
     "execution_count": 20,
     "metadata": {},
     "output_type": "execute_result"
    }
   ],
   "source": [
    "np.unique(y_init).shape"
   ]
  },
  {
   "cell_type": "code",
   "execution_count": 21,
   "metadata": {},
   "outputs": [
    {
     "name": "stdout",
     "output_type": "stream",
     "text": [
      "(1300, 7) (1300, 7)\n"
     ]
    },
    {
     "name": "stderr",
     "output_type": "stream",
     "text": [
      " 23%|██▎       | 837/3595 [00:00<00:00, 2912.56it/s]"
     ]
    },
    {
     "name": "stderr",
     "output_type": "stream",
     "text": [
      "100%|██████████| 3595/3595 [00:01<00:00, 2718.84it/s]\n"
     ]
    },
    {
     "name": "stdout",
     "output_type": "stream",
     "text": [
      "(1300, 7) (1300, 7)\n"
     ]
    },
    {
     "name": "stderr",
     "output_type": "stream",
     "text": [
      "100%|██████████| 3585/3585 [00:01<00:00, 2929.93it/s]\n"
     ]
    },
    {
     "name": "stdout",
     "output_type": "stream",
     "text": [
      "(1300, 7) (1300, 7)\n"
     ]
    },
    {
     "name": "stderr",
     "output_type": "stream",
     "text": [
      "100%|██████████| 3575/3575 [00:01<00:00, 2971.41it/s]\n"
     ]
    },
    {
     "name": "stdout",
     "output_type": "stream",
     "text": [
      "(1300, 7) (1300, 7)\n"
     ]
    },
    {
     "name": "stderr",
     "output_type": "stream",
     "text": [
      "100%|██████████| 3565/3565 [00:01<00:00, 2954.03it/s]\n"
     ]
    },
    {
     "name": "stdout",
     "output_type": "stream",
     "text": [
      "(1300, 7) (1300, 7)\n"
     ]
    },
    {
     "name": "stderr",
     "output_type": "stream",
     "text": [
      "100%|██████████| 3555/3555 [00:01<00:00, 2919.89it/s]\n"
     ]
    },
    {
     "name": "stdout",
     "output_type": "stream",
     "text": [
      "(1300, 7) (1300, 7)\n"
     ]
    },
    {
     "name": "stderr",
     "output_type": "stream",
     "text": [
      "100%|██████████| 3545/3545 [00:01<00:00, 2927.09it/s]\n"
     ]
    },
    {
     "name": "stdout",
     "output_type": "stream",
     "text": [
      "(1300, 7) (1300, 7)\n"
     ]
    },
    {
     "name": "stderr",
     "output_type": "stream",
     "text": [
      "100%|██████████| 3535/3535 [00:01<00:00, 2944.94it/s]\n"
     ]
    },
    {
     "name": "stdout",
     "output_type": "stream",
     "text": [
      "(1300, 7) (1300, 7)\n"
     ]
    },
    {
     "name": "stderr",
     "output_type": "stream",
     "text": [
      "100%|██████████| 3525/3525 [00:01<00:00, 2989.54it/s]\n"
     ]
    },
    {
     "name": "stdout",
     "output_type": "stream",
     "text": [
      "(1300, 7) (1300, 7)\n"
     ]
    },
    {
     "name": "stderr",
     "output_type": "stream",
     "text": [
      "100%|██████████| 3515/3515 [00:01<00:00, 3053.16it/s]\n"
     ]
    },
    {
     "name": "stdout",
     "output_type": "stream",
     "text": [
      "(1300, 7) (1300, 7)\n"
     ]
    },
    {
     "name": "stderr",
     "output_type": "stream",
     "text": [
      "100%|██████████| 3505/3505 [00:01<00:00, 3025.50it/s]\n"
     ]
    },
    {
     "name": "stdout",
     "output_type": "stream",
     "text": [
      "auto INFLUENCE SAMPLING DONE.\n"
     ]
    },
    {
     "data": {
      "text/plain": [
       "[0.4461538461538462,\n",
       " 0.44461538461538463,\n",
       " 0.4469230769230769,\n",
       " 0.4546153846153846,\n",
       " 0.46153846153846156,\n",
       " 0.47846153846153844,\n",
       " 0.48846153846153845,\n",
       " 0.49,\n",
       " 0.4938461538461538,\n",
       " 0.49846153846153846,\n",
       " 0.5046153846153846]"
      ]
     },
     "execution_count": 21,
     "metadata": {},
     "output_type": "execute_result"
    }
   ],
   "source": [
    "\n",
    "def auto_inf_sampling(classifier, X_pool, n_instances=1):\n",
    "    \n",
    "    res =  compute_influence_pipeline_auto(args, X_pool, np.zeros(shape=(X_pool.shape[0],)), data.x_val, data.y_val, auto_l_ilearner.estimator[0], enc)\n",
    "    res = pd.DataFrame.from_dict(res)\n",
    "    query_metrics = res.idxmax(axis=1).values\n",
    "\n",
    "    res['max'] = res.max(axis=1)\n",
    "    res['min'] = res.min(axis=1)\n",
    "    res['diff'] = res['max'] - res['min']\n",
    "    \n",
    "    query_idx, query_I = shuffled_argmax(res['max'].values, n_instances=n_instances)\n",
    "\n",
    "    return query_idx, query_metrics[query_idx]\n",
    "\n",
    "\n",
    "auto_l_ilearner = ActiveLearner(\n",
    "estimator=base_model,\n",
    "query_strategy=auto_inf_sampling,\n",
    "X_training=x_init, y_training=y_init)\n",
    "\n",
    "def auto_inf_sampling(classifier, X_pool, n_instances=1):\n",
    "    \n",
    "    res =  compute_influence_pipeline_auto(args, X_pool, np.zeros(shape=(X_pool.shape[0],)), data.x_val, data.y_val, auto_l_ilearner.estimator[0], enc)\n",
    "    res = pd.DataFrame.from_dict(res)\n",
    "    query_metrics = res.idxmax(axis=1).values\n",
    "\n",
    "    res['max'] = res.max(axis=1)\n",
    "    res['min'] = res.min(axis=1)\n",
    "    res['diff'] = res['max'] - res['min']\n",
    "    \n",
    "    query_idx, query_I = shuffled_argmax(res['max'].values, n_instances=n_instances)\n",
    "\n",
    "    return query_idx, query_metrics[query_idx]\n",
    "\n",
    "results_dict['a_influence'] = [unqueried_score]\n",
    "results_dict['a_influence_val'] = [val_score]\n",
    "\n",
    "for _ in range(N_ROUNDS):\n",
    "    query_index, query_instance, auto_labels = auto_l_ilearner.query(x_pool, n_instances=N_QUERIES, return_metrics=True)\n",
    "\n",
    "    # print(list(zip(inf_0_1, y_pool[query_index], np.where(np.array(inf_0_1)>0, 1, 0).reshape(N_QUERIES, ))))\n",
    "    x_teach, y_teach = x_pool[query_index].reshape(N_QUERIES, -1), auto_labels.reshape(N_QUERIES, )\n",
    "\n",
    "    auto_l_ilearner.teach(X=x_teach, y=y_teach)\n",
    "\n",
    "    x_pool, y_pool = np.delete(x_pool, query_index, axis=0), np.delete(y_pool, query_index)\n",
    "\n",
    "    imodel_accuracy = auto_l_ilearner.score(x_test, data.y_test)\n",
    "    results_dict['a_influence'].append(imodel_accuracy)\n",
    "    results_dict['a_influence_val'].append(auto_l_ilearner.score(x_val, data.y_val))\n",
    "    \n",
    "x_pool, y_pool = copy.deepcopy(x_pool_copy), copy.deepcopy(y_pool_copy)\n",
    "\n",
    "print(\"auto INFLUENCE SAMPLING DONE.\")\n",
    "results_dict['a_influence']"
   ]
  },
  {
   "cell_type": "code",
   "execution_count": null,
   "metadata": {},
   "outputs": [],
   "source": []
  },
  {
   "cell_type": "code",
   "execution_count": 24,
   "metadata": {},
   "outputs": [
    {
     "data": {
      "image/png": "[encoded data removed]",
      "text/plain": [
       "<Figure size 655x600 with 1 Axes>"
      ]
     },
     "metadata": {},
     "output_type": "display_data"
    }
   ],
   "source": [
    "import seaborn as sns\n",
    "sns.set(font_scale=2.2)\n",
    "\n",
    "sns.set_style(\"whitegrid\")\n",
    "plt.figure(figsize=(6.55, 6))\n",
    "plt.rcParams[\"font.family\"] = \"Times New Roman\"\n",
    "\n",
    "args.dataset = 'wine_quality'\n",
    "# plt.plot(range(11), results_dict['random'], label='Random', color='tab:orange', linestyle='dashed',lw=3)\n",
    "plt.plot(range(11), results_dict['random'], label='Random', color='darkorange', linestyle='dashed',lw=3)\n",
    "plt.plot(range(11), results_dict['entropy'], label='Entropy', color='darkviolet', linestyle='dashed',lw=3)\n",
    "plt.plot(range(11), results_dict['margin'], label='Margin', color='cornflowerblue', linestyle='dashed',lw=3)\n",
    "plt.plot(range(11), results_dict['uncertainty'], label='Uncertainty', color='tab:pink', linestyle='dashed',lw=3)\n",
    "plt.plot(range(11), results_dict['influence'], label='Pred. Infl.', color='olive', linestyle='dashed',lw=3)\n",
    "plt.plot(range(11), results_dict['p_influence'], label='ISLA', color='tab:brown', linestyle='dashed',lw=3)\n",
    "# plt.plot(range(11), results_dict['diff_influence'], label='Influence w/o Auto-Labeling', linestyle='dashed', color='tab:red', lw=3)\n",
    "plt.plot(range(11), results_dict['a_influence'], label='Ours', color='tab:cyan', lw=3)\n",
    "# plt.plot(range(11), results_dict['r_influence'], label='Auto-Labeling Reversed Influence', color='darkviolet', lw=3)\n",
    "\n",
    "\n",
    "plt.xlabel('Active Rounds')\n",
    "plt.ylabel('Test Accuracy (%)')\n",
    "legend = plt.legend(loc=\"upper left\", fontsize=20)\n",
    "legend.get_frame().set_alpha(0.8)\n",
    "\n",
    "# plt.title(args.dataset + ' Test Dataset')\n",
    "# tight layout\n",
    "plt.ylim(0.42, 0.52)\n",
    "plt.yticks(np.linspace(0.42, 0.52, num=6), np.linspace(0.42, 0.52, num=6)*100)\n",
    "plt.xlim(0, 10)\n",
    "plt.xticks(range(0, 11, 2))\n",
    "plt.tight_layout()\n",
    "savename = 'newresults/'+ args.dataset + '_test_' + str(C) +'_influence_sampling.png'\n",
    "plt.savefig(savename, dpi=300)\n",
    "plt.show()"
   ]
  },
  {
   "cell_type": "code",
   "execution_count": null,
   "metadata": {},
   "outputs": [],
   "source": []
  }
 ],
 "metadata": {
  "kernelspec": {
   "display_name": "infbi",
   "language": "python",
   "name": "python3"
  },
  "language_info": {
   "codemirror_mode": {
    "name": "ipython",
    "version": 3
   },
   "file_extension": ".py",
   "mimetype": "text/x-python",
   "name": "python",
   "nbconvert_exporter": "python",
   "pygments_lexer": "ipython3",
   "version": "3.8.16"
  }
 },
 "nbformat": 4,
 "nbformat_minor": 2
}
