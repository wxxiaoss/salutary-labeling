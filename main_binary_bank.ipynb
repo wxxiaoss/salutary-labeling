{
 "cells": [
  {
   "cell_type": "code",
   "execution_count": 1,
   "metadata": {},
   "outputs": [
    {
     "name": "stderr",
     "output_type": "stream",
     "text": [
      "/home/wxxiao/anaconda3/envs/tf-py38/lib/python3.8/site-packages/tqdm/auto.py:22: TqdmWarning: IProgress not found. Please update jupyter and ipywidgets. See https://ipywidgets.readthedocs.io/en/stable/user_install.html\n",
      "  from .autonotebook import tqdm as notebook_tqdm\n"
     ]
    }
   ],
   "source": [
    "import os\n",
    "import time\n",
    "import argparse\n",
    "import numpy as np\n",
    "from typing import Sequence\n",
    "\n",
    "from dataset import fetch_data, DataTemplate\n",
    "from model import LogisticRegression, NNLastLayerIF, MLPClassifier\n",
    "from utils import fix_seed, save2csv\n",
    "\n",
    "import json\n",
    "\n",
    "import pickle\n",
    "import random\n",
    "\n",
    "import copy\n",
    "\n",
    "import pandas as pd\n",
    "\n",
    "from modAL.models import ActiveLearner\n",
    "from modAL.uncertainty import entropy_sampling, margin_sampling, uncertainty_sampling\n",
    "\n",
    "from sklearn.linear_model import LogisticRegression as LR\n",
    "from sklearn.ensemble import RandomForestClassifier\n",
    "from sklearn.neighbors import KNeighborsClassifier\n",
    "from sklearn.svm import SVC\n",
    "from sklearn.tree import DecisionTreeRegressor\n",
    "\n",
    "import matplotlib.pyplot as plt\n",
    "\n",
    "from sklearn.model_selection import train_test_split\n",
    "\n",
    "from sklearn.pipeline import make_pipeline\n",
    "from sklearn.preprocessing import StandardScaler\n",
    " \n",
    "from modAL.utils.selection import shuffled_argmax, shuffled_argmin"
   ]
  },
  {
   "cell_type": "code",
   "execution_count": 2,
   "metadata": {},
   "outputs": [],
   "source": [
    "def parse_args():\n",
    "    parser = argparse.ArgumentParser(description='Influence Fairness')\n",
    "    parser.add_argument('--dataset', type=str, default=\"adult\", help=\"name of the dataset\")\n",
    "    parser.add_argument('--metric', type=str, default=\"eop\", help=\"eop or dp\")\n",
    "    parser.add_argument('--seed', type=float, default=42, help=\"random seed\")\n",
    "    parser.add_argument('--save_model', type=str, default=\"n\", help=\"y/n\")\n",
    "    parser.add_argument('--type', type=str, default=\"util\", help=\"util/fair/robust\")\n",
    "    parser.add_argument('--strategy', type=str, default=\"dec\", help=\"inc/dec/random\")\n",
    "    parser.add_argument('--points_to_delete', type=int, default=500, help=\"points to delete\")\n",
    "    parser.add_argument('--random_seed', type=int, default=42, help=\"seed for random strategy\")\n",
    "    parser.add_argument('--plot_before_only', type=str, default=\"n\", help=\"y/n\")\n",
    "    parser.add_argument('--model_type', type=str, default=\"logreg\", help=\"logreg/nn\")\n",
    "    parser.add_argument('--diabetes', type=str, default=\"y\", help=\"y/n\")\n",
    "\n",
    "    args = parser.parse_args(\"--dataset bank --diabetes  n --plot_before_only n\".split())\n",
    "\n",
    "    return args\n",
    "args = parse_args()"
   ]
  },
  {
   "cell_type": "code",
   "execution_count": 3,
   "metadata": {},
   "outputs": [],
   "source": [
    "def get_full_dataset(args):\n",
    "    tik = time.time()\n",
    "\n",
    "    if args.seed is not None:\n",
    "        fix_seed(args.seed)\n",
    "\n",
    "    with open('data/' + args.dataset  + '/meta.json', 'r+') as f:\n",
    "        json_data = json.load(f)\n",
    "        json_data['train_path'] = './data/' + args.dataset + '/train.csv'\n",
    "        f.seek(0)        \n",
    "        json.dump(json_data, f, indent=4)\n",
    "        f.truncate()\n",
    "\n",
    "    data: DataTemplate = fetch_data(args.dataset)\n",
    "    return data\n",
    "\n",
    "def random_sampling(classifier, X_pool, n_instances):\n",
    "    n_samples = len(X_pool)\n",
    "    query_idx = np.random.choice(range(n_samples), n_instances, replace=False)\n",
    "    return query_idx, X_pool[query_idx]\n",
    "\n",
    "\n",
    "\n",
    "def train_model(args, x_train, y_train):\n",
    "    tik = time.time()\n",
    "\n",
    "    if args.seed is not None:\n",
    "        fix_seed(args.seed)\n",
    "\n",
    "    model = LogisticRegression(l2_reg=0.01)\n",
    "\n",
    "    \"\"\" vanilla training \"\"\"\n",
    "\n",
    "    model.fit(x_train, y_train)\n",
    "\n",
    "    return model\n",
    "\n",
    "\n",
    "def compute_influence(args, x_train, y_train, x_val, y_val, model):\n",
    "    ori_util_loss_val = model.log_loss(x_val,y_val)\n",
    "\n",
    "    \"\"\" compute the influence and save data \"\"\"\n",
    "\n",
    "    pred_train, _ = model.pred(x_train)\n",
    "\n",
    "    train_total_grad, train_indiv_grad = model.grad(x_train, y_train)\n",
    "    util_loss_total_grad, acc_loss_indiv_grad = model.grad(x_val, y_val)\n",
    "\n",
    "    hess = model.hess(x_train)\n",
    "    util_grad_hvp = model.get_inv_hvp(hess, util_loss_total_grad)\n",
    "\n",
    "    util_pred_infl = train_indiv_grad.dot(util_grad_hvp)\n",
    "\n",
    "    return util_pred_infl"
   ]
  },
  {
   "cell_type": "code",
   "execution_count": 4,
   "metadata": {},
   "outputs": [
    {
     "name": "stdout",
     "output_type": "stream",
     "text": [
      "Loading Bank dataset..\n",
      "Dataset statistic - #total: 30488; #train: 18292; #val.: 6098; #test: 6098; #dim.: 51\n",
      "\n"
     ]
    }
   ],
   "source": [
    "args.seed = 0\n",
    "#args.dataset = 'toy'\n",
    "#args.diabetes = 'y'\n",
    "N_QUERIES = 10 #100\n",
    "N_ROUNDS = 10\n",
    "\n",
    "base_model = clf = make_pipeline(StandardScaler(), LogisticRegression(l2_reg=0.01))\n",
    "\n",
    "# base_model = LogisticRegression(l2_reg=0.01)\n",
    "#######################\n",
    "data = get_full_dataset(args)"
   ]
  },
  {
   "cell_type": "code",
   "execution_count": 5,
   "metadata": {},
   "outputs": [
    {
     "data": {
      "text/plain": [
       "(300, 17992, 6098, 6098)"
      ]
     },
     "execution_count": 5,
     "metadata": {},
     "output_type": "execute_result"
    }
   ],
   "source": [
    "X_pool, X_init, y_pool, y_init = train_test_split(data.x_train, data.y_train, train_size=data.x_train.shape[0] - 300, test_size=300, random_state=1, stratify=data.y_train)\n",
    "\n",
    "X_pool_copy, y_pool_copy = copy.deepcopy(X_pool), copy.deepcopy(y_pool)\n",
    "\n",
    "# data.x_val, data.y_val, data.x_test, data.y_test = X_val, y_val, X_test, y_test\n",
    "\n",
    "X_init.shape[0], X_pool.shape[0], data.x_val.shape[0], data.x_test.shape[0]"
   ]
  },
  {
   "cell_type": "code",
   "execution_count": 6,
   "metadata": {},
   "outputs": [],
   "source": [
    "val_shape = data.x_val.shape[0]\n",
    "X_all = np.concatenate((data.x_val, X_pool), axis=0)\n",
    "y_all = np.concatenate((data.y_val, y_pool), axis=0)\n",
    "\n",
    "random_seed = 2026\n",
    "X_pool, X_val, y_pool, y_val = train_test_split(X_all, y_all, train_size=X_all.shape[0] - val_shape, test_size=val_shape, random_state=random_seed, stratify=y_all)\n",
    "data.x_val, data.y_val = X_val, y_val\n",
    "X_init.shape[0], X_pool.shape[0], data.x_val.shape[0], data.x_test.shape[0]\n",
    "\n",
    "y_pool_copy = copy.deepcopy(y_pool)\n",
    "\n",
    "np.random.seed(random_seed)"
   ]
  },
  {
   "cell_type": "code",
   "execution_count": 7,
   "metadata": {},
   "outputs": [],
   "source": [
    "C = 50\n",
    "base_model = make_pipeline(LogisticRegression(C))\n",
    "\n",
    "x_init = X_init\n",
    "x_val = data.x_val\n",
    "x_test = data.x_test\n",
    "\n",
    "x_pool = X_pool\n",
    "y_pool_copy = copy.deepcopy(y_pool)\n",
    "\n",
    "x_pool_copy = copy.deepcopy(x_pool)"
   ]
  },
  {
   "cell_type": "code",
   "execution_count": 8,
   "metadata": {},
   "outputs": [
    {
     "name": "stdout",
     "output_type": "stream",
     "text": [
      "RANDOM SAMPLING DONE.\n"
     ]
    },
    {
     "data": {
      "text/plain": [
       "[0.6589045588717612,\n",
       " 0.6552968186290588,\n",
       " 0.6602164644145622,\n",
       " 0.6500491964578551,\n",
       " 0.6564447359790095,\n",
       " 0.6566087241718597,\n",
       " 0.6644801574286652,\n",
       " 0.6672679567071171,\n",
       " 0.6689078386356182,\n",
       " 0.6766152836995736,\n",
       " 0.6713676615283699]"
      ]
     },
     "execution_count": 8,
     "metadata": {},
     "output_type": "execute_result"
    }
   ],
   "source": [
    "#Random Sampling\n",
    "rlearner = ActiveLearner(\n",
    "estimator=base_model,\n",
    "query_strategy=random_sampling,\n",
    "X_training=x_init, y_training=y_init)\n",
    "\n",
    "unqueried_score = rlearner.score(x_test, data.y_test)\n",
    "val_score = rlearner.score(x_val, data.y_val)\n",
    "\n",
    "results_dict = {'random':[unqueried_score], 'entropy':[unqueried_score], 'margin':[unqueried_score], 'influence':[unqueried_score], 'uncertainty':[unqueried_score], 'p_influence':[unqueried_score], \n",
    "                'random_val':[val_score], 'entropy_val':[val_score], 'margin_val':[val_score], 'influence_val':[val_score], 'uncertainty_val':[val_score], 'p_influence_val':[val_score]}\n",
    "\n",
    "for _ in range(N_ROUNDS):\n",
    "    query_index, query_instance = rlearner.query(x_pool, n_instances=N_QUERIES)\n",
    "\n",
    "    x_teach, y_teach = x_pool[query_index].reshape(N_QUERIES, -1), y_pool[query_index].reshape(N_QUERIES, )\n",
    "    rlearner.teach(X=x_teach, y=y_teach)\n",
    "\n",
    "    x_pool, y_pool = np.delete(x_pool, query_index, axis=0), np.delete(y_pool, query_index)\n",
    "\n",
    "    rmodel_accuracy = rlearner.score(x_test, data.y_test)\n",
    "    results_dict['random'].append(rmodel_accuracy)\n",
    "    results_dict['random_val'].append(rlearner.score(x_val, data.y_val))\n",
    "\n",
    "x_pool, y_pool = copy.deepcopy(x_pool_copy), copy.deepcopy(y_pool_copy)\n",
    "\n",
    "print(\"RANDOM SAMPLING DONE.\")\n",
    "\n",
    "results_dict['random']"
   ]
  },
  {
   "cell_type": "code",
   "execution_count": 9,
   "metadata": {},
   "outputs": [
    {
     "name": "stdout",
     "output_type": "stream",
     "text": [
      "ENTROPY SAMPLING DONE.\n"
     ]
    },
    {
     "data": {
      "text/plain": [
       "[0.6589045588717612,\n",
       " 0.664316169235815,\n",
       " 0.6651361102000656,\n",
       " 0.6710396851426698,\n",
       " 0.672843555264021,\n",
       " 0.6777632010495245,\n",
       " 0.6853066579206297,\n",
       " 0.6931780911774352,\n",
       " 0.7099048868481469,\n",
       " 0.7190882256477533,\n",
       " 0.7256477533617579]"
      ]
     },
     "execution_count": 9,
     "metadata": {},
     "output_type": "execute_result"
    }
   ],
   "source": [
    "#Entropy Sampling\n",
    "elearner = ActiveLearner(\n",
    "estimator=base_model,\n",
    "query_strategy=entropy_sampling,\n",
    "X_training=x_init, y_training=y_init)\n",
    "\n",
    "\n",
    "for _ in range(N_ROUNDS):\n",
    "    query_index, query_instance = elearner.query(x_pool, n_instances=N_QUERIES)\n",
    "\n",
    "    x_teach, y_teach = x_pool[query_index].reshape(N_QUERIES, -1), y_pool[query_index].reshape(N_QUERIES, )\n",
    "    elearner.teach(X=x_teach, y=y_teach)\n",
    "\n",
    "    x_pool, y_pool = np.delete(x_pool, query_index, axis=0), np.delete(y_pool, query_index)\n",
    "\n",
    "    emodel_accuracy = elearner.score(x_test, data.y_test)\n",
    "    results_dict['entropy'].append(emodel_accuracy)\n",
    "    results_dict['entropy_val'].append(elearner.score(x_val, data.y_val))\n",
    "\n",
    "    \n",
    "x_pool, y_pool = copy.deepcopy(x_pool_copy), copy.deepcopy(y_pool_copy)\n",
    "\n",
    "print(\"ENTROPY SAMPLING DONE.\")\n",
    "results_dict['entropy']"
   ]
  },
  {
   "cell_type": "code",
   "execution_count": 10,
   "metadata": {},
   "outputs": [
    {
     "name": "stdout",
     "output_type": "stream",
     "text": [
      "MARGIN SAMPLING DONE.\n"
     ]
    },
    {
     "data": {
      "text/plain": [
       "[0.6589045588717612,\n",
       " 0.664316169235815,\n",
       " 0.6651361102000656,\n",
       " 0.6710396851426698,\n",
       " 0.672843555264021,\n",
       " 0.6777632010495245,\n",
       " 0.6853066579206297,\n",
       " 0.6931780911774352,\n",
       " 0.7099048868481469,\n",
       " 0.7190882256477533,\n",
       " 0.7256477533617579]"
      ]
     },
     "execution_count": 10,
     "metadata": {},
     "output_type": "execute_result"
    }
   ],
   "source": [
    "#Margin Sampling\n",
    "mlearner = ActiveLearner(\n",
    "estimator=base_model,\n",
    "query_strategy=margin_sampling,\n",
    "X_training=x_init, y_training=y_init)\n",
    "\n",
    "for _ in range(N_ROUNDS):\n",
    "    query_index, query_instance = mlearner.query(x_pool, n_instances=N_QUERIES)\n",
    "\n",
    "    x_teach, y_teach = x_pool[query_index].reshape(N_QUERIES, -1), y_pool[query_index].reshape(N_QUERIES, )\n",
    "    mlearner.teach(X=x_teach, y=y_teach)\n",
    "\n",
    "    x_pool, y_pool = np.delete(x_pool, query_index, axis=0), np.delete(y_pool, query_index)\n",
    "\n",
    "    mmodel_accuracy = mlearner.score(x_test, data.y_test)\n",
    "    results_dict['margin'].append(mmodel_accuracy)\n",
    "    results_dict['margin_val'].append(mlearner.score(x_val, data.y_val))\n",
    "\n",
    "x_pool, y_pool = copy.deepcopy(x_pool_copy), copy.deepcopy(y_pool_copy)\n",
    "\n",
    "print(\"MARGIN SAMPLING DONE.\")\n",
    "results_dict['margin']"
   ]
  },
  {
   "cell_type": "code",
   "execution_count": 11,
   "metadata": {},
   "outputs": [
    {
     "name": "stdout",
     "output_type": "stream",
     "text": [
      "UNCERTAINTY SAMPLING DONE.\n"
     ]
    },
    {
     "data": {
      "text/plain": [
       "[0.6589045588717612,\n",
       " 0.664316169235815,\n",
       " 0.6651361102000656,\n",
       " 0.6710396851426698,\n",
       " 0.672843555264021,\n",
       " 0.6777632010495245,\n",
       " 0.6853066579206297,\n",
       " 0.6931780911774352,\n",
       " 0.7099048868481469,\n",
       " 0.7190882256477533,\n",
       " 0.7256477533617579]"
      ]
     },
     "execution_count": 11,
     "metadata": {},
     "output_type": "execute_result"
    }
   ],
   "source": [
    "#Uncertainty Sampling\n",
    "ulearner = ActiveLearner(\n",
    "estimator=base_model,\n",
    "query_strategy=uncertainty_sampling,\n",
    "X_training=x_init, y_training=y_init)\n",
    "\n",
    "for _ in range(N_ROUNDS):\n",
    "    query_index, query_instance = ulearner.query(x_pool, n_instances=N_QUERIES)\n",
    "\n",
    "    x_teach, y_teach = x_pool[query_index].reshape(N_QUERIES, -1), y_pool[query_index].reshape(N_QUERIES, )\n",
    "    ulearner.teach(X=x_teach, y=y_teach)\n",
    "\n",
    "    x_pool, y_pool = np.delete(x_pool, query_index, axis=0), np.delete(y_pool, query_index)\n",
    "\n",
    "    umodel_accuracy = ulearner.score(x_test, data.y_test)\n",
    "    results_dict['uncertainty'].append(umodel_accuracy)\n",
    "    results_dict['uncertainty_val'].append(ulearner.score(x_val, data.y_val))\n",
    "    \n",
    "x_pool, y_pool = copy.deepcopy(x_pool_copy), copy.deepcopy(y_pool_copy)\n",
    "\n",
    "print(\"UNCERTAINTY SAMPLING DONE.\")\n",
    "results_dict['uncertainty']"
   ]
  },
  {
   "cell_type": "code",
   "execution_count": 12,
   "metadata": {},
   "outputs": [
    {
     "name": "stdout",
     "output_type": "stream",
     "text": [
      "INFLUENCE SAMPLING DONE.\n"
     ]
    },
    {
     "data": {
      "text/plain": [
       "[0.6589045588717612,\n",
       " 0.6551328304362086,\n",
       " 0.6448015742866514,\n",
       " 0.6375860938012463,\n",
       " 0.6426697277795999,\n",
       " 0.64283371597245,\n",
       " 0.6472613971794031,\n",
       " 0.6403738930796983,\n",
       " 0.6425057395867497,\n",
       " 0.6416857986224992,\n",
       " 0.6434896687438505]"
      ]
     },
     "execution_count": 12,
     "metadata": {},
     "output_type": "execute_result"
    }
   ],
   "source": [
    "cls_model = train_model(args, X_init, y_init)\n",
    "util_infl = compute_influence(args, X_init, y_init, data.x_val, data.y_val, cls_model)\n",
    "estimation_model = DecisionTreeRegressor(random_state=42).fit(X_init, util_infl)\n",
    "def influence_sampling(classifier, x_pool, n_instances=1):\n",
    "    I = estimation_model.predict(x_pool)\n",
    "    query_idx, query_I = shuffled_argmax(I, n_instances=n_instances)\n",
    "    return query_idx, x_pool[query_idx]\n",
    "\n",
    "#Influence Sampling\n",
    "ilearner = ActiveLearner(\n",
    "estimator=base_model,\n",
    "query_strategy=influence_sampling,\n",
    "X_training=x_init, y_training=y_init)\n",
    "\n",
    "for _ in range(N_ROUNDS):\n",
    "    query_index, query_instance = ilearner.query(x_pool, n_instances=N_QUERIES)\n",
    "\n",
    "    x_teach, y_teach = x_pool[query_index].reshape(N_QUERIES, -1), y_pool[query_index].reshape(N_QUERIES, )\n",
    "\n",
    "    ilearner.teach(X=x_teach, y=y_teach)\n",
    "\n",
    "    x_pool, y_pool = np.delete(x_pool, query_index, axis=0), np.delete(y_pool, query_index)\n",
    "\n",
    "    imodel_accuracy = ilearner.score(x_test, data.y_test)\n",
    "    results_dict['influence'].append(imodel_accuracy)\n",
    "    results_dict['influence_val'].append(ilearner.score(x_val, data.y_val))\n",
    "    \n",
    "x_pool, y_pool = copy.deepcopy(x_pool_copy), copy.deepcopy(y_pool_copy)\n",
    "\n",
    "print(\"INFLUENCE SAMPLING DONE.\")\n",
    "results_dict['influence']"
   ]
  },
  {
   "cell_type": "code",
   "execution_count": null,
   "metadata": {},
   "outputs": [],
   "source": []
  },
  {
   "cell_type": "code",
   "execution_count": 13,
   "metadata": {},
   "outputs": [],
   "source": [
    "def compute_influence(args, x_train, y_train, x_val, y_val, model):\n",
    "    # ori_util_loss_val = model.log_loss(x_val,y_val)\n",
    "\n",
    "    \"\"\" compute the influence and save data \"\"\"\n",
    "    \n",
    "    _, train_indiv_grad = model.grad(x_train, y_train)\n",
    "\n",
    "    util_loss_total_grad, acc_loss_indiv_grad = model.grad(x_val, y_val)\n",
    "\n",
    "    hess = model.hess(x_train)\n",
    "    util_grad_hvp = model.get_inv_hvp(hess, util_loss_total_grad)\n",
    "\n",
    "    util_pred_infl = train_indiv_grad.dot(util_grad_hvp)\n",
    "\n",
    "    return util_pred_infl"
   ]
  },
  {
   "cell_type": "code",
   "execution_count": 14,
   "metadata": {},
   "outputs": [
    {
     "name": "stdout",
     "output_type": "stream",
     "text": [
      "INFLUENCE SAMPLING DONE.\n"
     ]
    },
    {
     "data": {
      "text/plain": [
       "[0.6589045588717612,\n",
       " 0.65710068875041,\n",
       " 0.6597244998360118,\n",
       " 0.6574286651361102,\n",
       " 0.6620203345359135,\n",
       " 0.6559527714004592,\n",
       " 0.6615283699573631,\n",
       " 0.6616923581502132,\n",
       " 0.6653000983929157,\n",
       " 0.6633322400787144,\n",
       " 0.6521810429649065]"
      ]
     },
     "execution_count": 14,
     "metadata": {},
     "output_type": "execute_result"
    }
   ],
   "source": [
    "def p_inf_sampling(classifier, x_pool, n_instances=1):\n",
    "    p_labels = pilearner.predict(x_pool)\n",
    "    pool_infl = compute_influence(args, x_pool, p_labels, x_val, data.y_val, pilearner.estimator[0])\n",
    "    query_idx, query_I = shuffled_argmax(pool_infl, n_instances=n_instances)\n",
    "    return query_idx, x_pool[query_idx]\n",
    "\n",
    "#P Influence Sampling\n",
    "pilearner = ActiveLearner(\n",
    "estimator=base_model,\n",
    "query_strategy=p_inf_sampling,\n",
    "X_training=x_init, y_training=y_init)\n",
    "\n",
    "results_dict['p_influence'] = [unqueried_score]\n",
    "results_dict['p_influence_val'] =  [val_score]\n",
    "\n",
    "\n",
    "for _ in range(N_ROUNDS):\n",
    "    query_index, query_instance = pilearner.query(x_pool, n_instances=N_QUERIES)\n",
    "\n",
    "    x_teach, y_teach = x_pool[query_index].reshape(N_QUERIES, -1), y_pool[query_index].reshape(N_QUERIES, )\n",
    "\n",
    "    pilearner.teach(X=x_teach, y=y_teach)\n",
    "\n",
    "    x_pool, y_pool = np.delete(x_pool, query_index, axis=0), np.delete(y_pool, query_index)\n",
    "\n",
    "    imodel_accuracy = pilearner.score(x_test, data.y_test)\n",
    "    results_dict['p_influence'].append(imodel_accuracy)\n",
    "    results_dict['p_influence_val'].append(pilearner.score(x_val, data.y_val))\n",
    "\n",
    "x_pool, y_pool = copy.deepcopy(x_pool_copy), copy.deepcopy(y_pool_copy)\n",
    "\n",
    "print(\"INFLUENCE SAMPLING DONE.\")\n",
    "results_dict['p_influence']"
   ]
  },
  {
   "cell_type": "code",
   "execution_count": null,
   "metadata": {},
   "outputs": [],
   "source": []
  },
  {
   "cell_type": "code",
   "execution_count": null,
   "metadata": {},
   "outputs": [],
   "source": []
  },
  {
   "cell_type": "code",
   "execution_count": 16,
   "metadata": {},
   "outputs": [
    {
     "name": "stdout",
     "output_type": "stream",
     "text": [
      "auto INFLUENCE SAMPLING DONE.\n"
     ]
    },
    {
     "data": {
      "text/plain": [
       "[0.6589045588717612,\n",
       " 0.648573302722204,\n",
       " 0.6772712364709741,\n",
       " 0.6976057723843884,\n",
       " 0.7387668087897671,\n",
       " 0.764348966874385,\n",
       " 0.7718924237454903,\n",
       " 0.7766480813381437,\n",
       " 0.7820596917021975,\n",
       " 0.7695965890455887,\n",
       " 0.7745162348310921]"
      ]
     },
     "execution_count": 16,
     "metadata": {},
     "output_type": "execute_result"
    }
   ],
   "source": [
    "def compute_influence_auto(args, x_train, y_train, x_val, y_val, model):\n",
    "    ori_util_loss_val = model.log_loss(x_val,y_val)\n",
    "\n",
    "    \"\"\" compute the influence and save data \"\"\"\n",
    "    \n",
    "    _, train_indiv_grad_0 = model.grad(x_train, np.zeros_like(y_train))\n",
    "    _, train_indiv_grad_1 = model.grad(x_train, np.ones_like(y_train))\n",
    "\n",
    "    util_loss_total_grad, acc_loss_indiv_grad = model.grad(x_val, y_val)\n",
    "\n",
    "    hess = model.hess(x_train)\n",
    "    util_grad_hvp = model.get_inv_hvp(hess, util_loss_total_grad)\n",
    "\n",
    "    util_pred_infl_0 = train_indiv_grad_0.dot(util_grad_hvp)\n",
    "    util_pred_infl_1 = train_indiv_grad_1.dot(util_grad_hvp)\n",
    "\n",
    "    return util_pred_infl_0, util_pred_infl_1\n",
    "\n",
    "\n",
    "\n",
    "\n",
    "def auto_inf_sampling(classifier, x_pool, n_instances=1):\n",
    "    \n",
    "    inf_0, inf_1 = compute_influence_auto(args, x_pool, np.zeros(shape=(x_pool.shape[0],)), x_val, data.y_val, auto_ilearner.estimator[0])\n",
    "\n",
    "    query_metrics = np.maximum(inf_0, inf_1)\n",
    "    \n",
    "    query_idx, query_inf = shuffled_argmax(query_metrics, n_instances=n_instances)\n",
    "    \n",
    "    infs = inf_0 - inf_1\n",
    "    return query_idx, infs[query_idx]\n",
    "\n",
    "\n",
    "#P Influence Sampling\n",
    "auto_ilearner = ActiveLearner(\n",
    "estimator=base_model,\n",
    "query_strategy=auto_inf_sampling,\n",
    "X_training=x_init, y_training=y_init)\n",
    "\n",
    "results_dict['a_influence'] = [unqueried_score]\n",
    "results_dict['a_influence_val'] = [val_score]\n",
    "\n",
    "for _ in range(N_ROUNDS):\n",
    "    query_index, query_instance, inf_0_1 = auto_ilearner.query(x_pool, n_instances=N_QUERIES, return_metrics=True)\n",
    "\n",
    "    # print(list(zip(inf_0_1, y_pool[query_index], np.where(np.array(inf_0_1)>0, 1, 0).reshape(N_QUERIES, ))))\n",
    "\n",
    "    x_teach, y_teach = x_pool[query_index].reshape(N_QUERIES, -1), np.where(np.array(inf_0_1)>0, 0, 1).reshape(N_QUERIES, )\n",
    "\n",
    "\n",
    "    auto_ilearner.teach(X=x_teach, y=y_teach)\n",
    "\n",
    "    x_pool, y_pool = np.delete(x_pool, query_index, axis=0), np.delete(y_pool, query_index)\n",
    "\n",
    "    imodel_accuracy = auto_ilearner.score(x_test, data.y_test)\n",
    "    results_dict['a_influence'].append(imodel_accuracy)\n",
    "    results_dict['a_influence_val'].append(auto_ilearner.score(x_val, data.y_val))\n",
    "    \n",
    "x_pool, y_pool = copy.deepcopy(x_pool_copy), copy.deepcopy(y_pool_copy)\n",
    "\n",
    "print(\"auto INFLUENCE SAMPLING DONE.\")\n",
    "results_dict['a_influence']"
   ]
  },
  {
   "cell_type": "code",
   "execution_count": 18,
   "metadata": {},
   "outputs": [
    {
     "data": {
      "image/png": "[encoded data removed]",
      "text/plain": [
       "<Figure size 670x600 with 1 Axes>"
      ]
     },
     "metadata": {},
     "output_type": "display_data"
    }
   ],
   "source": [
    "import seaborn as sns\n",
    "sns.set(font_scale=2.2)\n",
    "\n",
    "sns.set_style(\"whitegrid\")\n",
    "plt.figure(figsize=(6.7, 6), dpi=100)\n",
    "plt.rcParams[\"font.family\"] = \"Times New Roman\"\n",
    "plt.rc('text', usetex = False)\n",
    "\n",
    "args.dataset = 'wine_quality'\n",
    "# plt.plot(range(11), results_dict['random'], label='Random', color='tab:orange', linestyle='dashed',lw=3)\n",
    "plt.plot(range(11), results_dict['random'], label='Random', color='darkorange', linestyle='dashed',lw=3)\n",
    "plt.plot(range(11), results_dict['entropy'], label='Entropy', color='darkviolet', linestyle='dashed',lw=3)\n",
    "plt.plot(range(11), results_dict['margin'], label='Margin', color='cornflowerblue', linestyle='dashed',lw=3)\n",
    "plt.plot(range(11), results_dict['uncertainty'], label='Uncertainty', color='tab:pink', linestyle='dashed',lw=3)\n",
    "plt.plot(range(11), results_dict['influence'], label='Pred. Infl.', color='olive', linestyle='dashed',lw=3)\n",
    "plt.plot(range(11), results_dict['p_influence'], label='ISLA', color='tab:brown', linestyle='dashed',lw=3)\n",
    "# plt.plot(range(11), results_dict['diff_influence'], label='Influence w/o Auto-Labeling', linestyle='dashed', color='tab:red', lw=3)\n",
    "plt.plot(range(11), results_dict['a_influence'], label='Ours', color='tab:cyan', lw=3)\n",
    "# plt.plot(range(11), results_dict['r_influence'], label='Auto-Labeling Reversed Influence', color='darkviolet', lw=3)\n",
    "\n",
    "\n",
    "# plt.xlabel('Active Rounds')\n",
    "plt.ylabel('Accuracy (%) - $\\it{Bank}$')\n",
    "legend = plt.legend(loc=\"upper left\", fontsize=20)\n",
    "legend.get_frame().set_alpha(0.8)\n",
    "\n",
    "# plt.title(args.dataset + ' Test Dataset')\n",
    "# tight layout\n",
    "# plt.ylim(0.63, 0.805)\n",
    "# plt.yticks(np.linspace(0.63, 0.805, num=6), [\"{0:.1f}\".format(x) for x in np.linspace(0.63, 0.805, num=6)*100])\n",
    "plt.xlim(0, 10)\n",
    "plt.xticks(range(0, 11, 2))\n",
    "plt.tight_layout()\n",
    "# savename = 'newresults/'+ args.dataset + '_test_' + str(C) +'_influence_sampling.png'\n",
    "plt.show()"
   ]
  }
 ],
 "metadata": {
  "kernelspec": {
   "display_name": "infbi",
   "language": "python",
   "name": "python3"
  },
  "language_info": {
   "codemirror_mode": {
    "name": "ipython",
    "version": 3
   },
   "file_extension": ".py",
   "mimetype": "text/x-python",
   "name": "python",
   "nbconvert_exporter": "python",
   "pygments_lexer": "ipython3",
   "version": "3.8.0"
  }
 },
 "nbformat": 4,
 "nbformat_minor": 2
}
